{
 "cells": [
  {
   "cell_type": "markdown",
   "metadata": {},
   "source": [
    "# 函数\n",
    "\n",
    "- 函数可以用来定义可重复代码，组织和简化\n",
    "- 一般来说一个函数在实际开发中为一个小功能\n",
    "- 一个类为一个大功能\n",
    "- 同样函数的长度不要超过一屏"
   ]
  },
  {
   "cell_type": "markdown",
   "metadata": {},
   "source": [
    "Python中的所有函数实际上都是有返回值(return None),\n",
    "\n",
    "如果你没有设置return,那么Python将不显示None.\n",
    "\n",
    "如果你设置return,那么将返回出return这个值."
   ]
  },
  {
   "cell_type": "markdown",
   "metadata": {},
   "source": [
    "## 定义一个函数\n",
    "\n",
    "def function_name(list of parameters):\n",
    "    \n",
    "    do something\n",
    "![](../Photo/69.png)\n",
    "- 以前使用的random 或者range 或者print.. 其实都是函数或者类"
   ]
  },
  {
   "cell_type": "markdown",
   "metadata": {},
   "source": [
    "函数的参数如果有默认值的情况,当你调用该函数的时候:\n",
    "可以不给予参数值,那么就会走该参数的默认值\n",
    "否则的话,就走你给予的参数值."
   ]
  },
  {
   "cell_type": "code",
   "execution_count": null,
   "metadata": {},
   "outputs": [],
   "source": [
    "#带默认值的只能放在最后\n",
    "#def name（name1，name2=“默认参数”）\n",
    "#任何函数都有返回值，return=“数”，可以设置返回值，不设置的话默认为none。"
   ]
  },
  {
   "cell_type": "code",
   "execution_count": 14,
   "metadata": {},
   "outputs": [],
   "source": [
    "def vvv(name):\n",
    "    print(name,\"aaaa\")"
   ]
  },
  {
   "cell_type": "code",
   "execution_count": 18,
   "metadata": {},
   "outputs": [
    {
     "name": "stdout",
     "output_type": "stream",
     "text": [
      "p aaaa\n"
     ]
    }
   ],
   "source": [
    "vvv(\"p\")"
   ]
  },
  {
   "cell_type": "code",
   "execution_count": 19,
   "metadata": {},
   "outputs": [],
   "source": [
    "def ttt(n1,n2):\n",
    "    print(n1,\"aaa\")\n",
    "    print(n2,\"ccc\")"
   ]
  },
  {
   "cell_type": "code",
   "execution_count": 21,
   "metadata": {},
   "outputs": [
    {
     "name": "stdout",
     "output_type": "stream",
     "text": [
      "4 aaa\n",
      "e ccc\n"
     ]
    }
   ],
   "source": [
    "ttt(4,\"e\")"
   ]
  },
  {
   "cell_type": "code",
   "execution_count": 4,
   "metadata": {},
   "outputs": [],
   "source": [
    "def nnn():\n",
    "    import random\n",
    "    a=random.randint(1,10)\n",
    "    b=eval(input(\"猜\"))\n",
    "    while 1:\n",
    "        if a==b:\n",
    "            print(\"猜对了\")\n",
    "            break\n",
    "        else:\n",
    "            print(\"错了\")\n",
    "            b=eval(input(\"猜\"))\n",
    "    "
   ]
  },
  {
   "cell_type": "code",
   "execution_count": 7,
   "metadata": {},
   "outputs": [],
   "source": [
    "def uuu():\n",
    "    import random\n",
    "    k=random.randint(1,2)\n",
    "    return k\n"
   ]
  },
  {
   "cell_type": "code",
   "execution_count": 2,
   "metadata": {},
   "outputs": [],
   "source": [
    "def ggg():\n",
    "    while 1:\n",
    "        p=eval(input(\"猜\"))\n",
    "        if uuu()==p:\n",
    "            print(\"猜对了\")\n",
    "            break\n",
    "        else:\n",
    "            print(\"错了\")\n",
    "            p=eval(input(\"猜\"))"
   ]
  },
  {
   "cell_type": "code",
   "execution_count": 9,
   "metadata": {},
   "outputs": [
    {
     "name": "stdout",
     "output_type": "stream",
     "text": [
      "猜1\n",
      "错了\n",
      "猜2\n",
      "猜1\n",
      "猜对了\n"
     ]
    }
   ],
   "source": [
    "uuu()\n",
    "ggg()"
   ]
  },
  {
   "cell_type": "markdown",
   "metadata": {},
   "source": [
    "nnn()"
   ]
  },
  {
   "cell_type": "markdown",
   "metadata": {},
   "source": [
    "## 调用一个函数\n",
    "- functionName()\n",
    "- \"()\" 就代表调用"
   ]
  },
  {
   "cell_type": "markdown",
   "metadata": {},
   "source": [
    "![](../Photo/70.png)"
   ]
  },
  {
   "cell_type": "markdown",
   "metadata": {},
   "source": [
    "## 带返回值和不带返回值的函数\n",
    "- return 返回的内容\n",
    "- return 返回多个值\n",
    "- 一般情况下，在多个函数协同完成一个功能的时候，那么将会有返回值"
   ]
  },
  {
   "cell_type": "markdown",
   "metadata": {},
   "source": [
    "![](../Photo/71.png)\n",
    "\n",
    "- 当然也可以自定义返回None"
   ]
  },
  {
   "cell_type": "markdown",
   "metadata": {},
   "source": [
    "## EP：\n",
    "![](../Photo/72.png)"
   ]
  },
  {
   "cell_type": "markdown",
   "metadata": {},
   "source": [
    "## 类型和关键字参数\n",
    "- 普通参数\n",
    "- 多个参数\n",
    "- 默认值参数\n",
    "- 不定长参数"
   ]
  },
  {
   "cell_type": "markdown",
   "metadata": {},
   "source": [
    "## 普通参数"
   ]
  },
  {
   "cell_type": "markdown",
   "metadata": {},
   "source": [
    "## 多个参数"
   ]
  },
  {
   "cell_type": "markdown",
   "metadata": {},
   "source": [
    "## 默认值参数"
   ]
  },
  {
   "cell_type": "markdown",
   "metadata": {},
   "source": [
    "## 强制命名"
   ]
  },
  {
   "cell_type": "markdown",
   "metadata": {},
   "source": [
    "## 不定长参数\n",
    "- \\*args\n",
    "> - 不定长，来多少装多少，不装也是可以的\n",
    "  - 返回的数据类型是元组\n",
    "  - args 名字是可以修改的，只是我们约定俗成的是args\n",
    "- \\**kwargs \n",
    "> - 返回的字典\n",
    "  - 输入的一定要是表达式（键值对）\n",
    "- name,\\*args,name2,\\**kwargs  使用参数名"
   ]
  },
  {
   "cell_type": "code",
   "execution_count": null,
   "metadata": {},
   "outputs": [],
   "source": [
    "#一个*是元祖，两个是字典"
   ]
  },
  {
   "cell_type": "code",
   "execution_count": 20,
   "metadata": {},
   "outputs": [],
   "source": [
    "def max_(*arge):\n",
    "    print(arge)\n",
    "    b=1\n",
    "    for i in arge:\n",
    "        if b==1:\n",
    "            b=b+1\n",
    "        else:\n",
    "            for a in arge:\n",
    "                if i>a :\n",
    "                    max_=i\n",
    "                    continue\n",
    "    print(max_)\n",
    "            \n",
    "        \n",
    "    "
   ]
  },
  {
   "cell_type": "code",
   "execution_count": 21,
   "metadata": {},
   "outputs": [
    {
     "name": "stdout",
     "output_type": "stream",
     "text": [
      "(1, 2, 3, 4, 5)\n",
      "5\n"
     ]
    }
   ],
   "source": [
    "max_(1,2,3,4,5)"
   ]
  },
  {
   "cell_type": "code",
   "execution_count": 22,
   "metadata": {},
   "outputs": [],
   "source": [
    "def sum_(*he):\n",
    "    print(he)\n",
    "    h=0\n",
    "    for n in he:\n",
    "        h=n+h\n",
    "    print(h)"
   ]
  },
  {
   "cell_type": "code",
   "execution_count": 23,
   "metadata": {},
   "outputs": [
    {
     "name": "stdout",
     "output_type": "stream",
     "text": [
      "(1, 2, 3)\n",
      "6\n"
     ]
    }
   ],
   "source": [
    "sum_(1,2,3)"
   ]
  },
  {
   "cell_type": "code",
   "execution_count": 81,
   "metadata": {},
   "outputs": [],
   "source": [
    "def jun(*cha):\n",
    "    print(cha)\n",
    "    h=0\n",
    "    t=0\n",
    "    for n in cha:\n",
    "        h=n+h\n",
    "        t=t+1\n",
    "    print(h/t)\n",
    "    "
   ]
  },
  {
   "cell_type": "code",
   "execution_count": 82,
   "metadata": {},
   "outputs": [
    {
     "name": "stdout",
     "output_type": "stream",
     "text": [
      "(1, 2, 3, 4)\n",
      "2.5\n"
     ]
    }
   ],
   "source": [
    "jun(1,2,3,4)"
   ]
  },
  {
   "cell_type": "code",
   "execution_count": 96,
   "metadata": {},
   "outputs": [],
   "source": [
    " def fang(*cha):\n",
    "    print(cha)\n",
    "    d=0\n",
    "    h=0\n",
    "    t=0\n",
    "    for n in cha:\n",
    "        h=n+h\n",
    "        t=t+1\n",
    "    g=h/t \n",
    "    print(g)\n",
    "    for i in cha:\n",
    "        c=i-g\n",
    "        s=c**2\n",
    "        d=s+d\n",
    "        q=d/(t-1)\n",
    "    print(q) "
   ]
  },
  {
   "cell_type": "code",
   "execution_count": 98,
   "metadata": {},
   "outputs": [
    {
     "name": "stdout",
     "output_type": "stream",
     "text": [
      "(1, 2, 3)\n",
      "2.0\n",
      "1.0\n"
     ]
    }
   ],
   "source": [
    "fang(1,2,3)"
   ]
  },
  {
   "cell_type": "markdown",
   "metadata": {},
   "source": [
    "## 变量的作用域\n",
    "- 局部变量 local\n",
    "- 全局变量 global\n",
    "- globals 函数返回一个全局变量的字典，包括所有导入的变量\n",
    "- locals() 函数会以字典类型返回当前位置的全部局部变量。"
   ]
  },
  {
   "cell_type": "code",
   "execution_count": null,
   "metadata": {},
   "outputs": [],
   "source": []
  },
  {
   "cell_type": "markdown",
   "metadata": {},
   "source": [
    "## 注意：\n",
    "- global ：在进行赋值操作的时候需要声明\n",
    "- 官方解释：This is because when you make an assignment to a variable in a scope, that variable becomes local to that scope and shadows any similarly named variable in the outer scope.\n",
    "- ![](../Photo/73.png)"
   ]
  },
  {
   "cell_type": "code",
   "execution_count": 48,
   "metadata": {},
   "outputs": [],
   "source": [
    "def fl(*kan):\n",
    "    print(kan)\n",
    "    q=1\n",
    "    w=1\n",
    "    e=1\n",
    "    for i in kan:\n",
    "        t=ord(i)\n",
    "        if 48<t<57:\n",
    "            q=q+1\n",
    "        if 65<t<90:\n",
    "            w=w+1\n",
    "        if 97<t<122:\n",
    "            e=e+1\n",
    "print(\"数字有\"，q,w,e)"
   ]
  },
  {
   "cell_type": "code",
   "execution_count": 50,
   "metadata": {},
   "outputs": [
    {
     "name": "stdout",
     "output_type": "stream",
     "text": [
      "('a', 'b')\n",
      "0 0 0\n",
      "0 0 1\n"
     ]
    }
   ],
   "source": [
    "fl(\"a\",\"b\")"
   ]
  },
  {
   "cell_type": "code",
   "execution_count": 13,
   "metadata": {},
   "outputs": [],
   "source": [
    "def ou():\n",
    "    res=0\n",
    "    for i in range(1,100,2):\n",
    "        res=(res+1)/i\n",
    "    return res\n",
    "        "
   ]
  },
  {
   "cell_type": "code",
   "execution_count": 14,
   "metadata": {},
   "outputs": [],
   "source": [
    "# return 相当于break，一旦执行跳出循环。"
   ]
  },
  {
   "cell_type": "code",
   "execution_count": 15,
   "metadata": {},
   "outputs": [],
   "source": [
    "def ji():\n",
    "    pes=0\n",
    "    for i in range(2,100,2):\n",
    "        pes=(pes+1)/i\n",
    "    return pes"
   ]
  },
  {
   "cell_type": "code",
   "execution_count": 16,
   "metadata": {},
   "outputs": [],
   "source": [
    "def shu(name):\n",
    "    if name%2==0:\n",
    "        ou()\n",
    "        print(\"偶数\")\n",
    "        ii=ou()\n",
    "        print(ii)\n",
    "    else:\n",
    "        ji()\n",
    "        print(\"奇数\")\n",
    "        "
   ]
  },
  {
   "cell_type": "code",
   "execution_count": 17,
   "metadata": {},
   "outputs": [
    {
     "name": "stdout",
     "output_type": "stream",
     "text": [
      "偶数\n",
      "0.010206252291984061\n"
     ]
    }
   ],
   "source": [
    "shu(10)"
   ]
  },
  {
   "cell_type": "code",
   "execution_count": 2,
   "metadata": {},
   "outputs": [
    {
     "name": "stdout",
     "output_type": "stream",
     "text": [
      "bbbbbb\n",
      "bbbfff\n"
     ]
    }
   ],
   "source": [
    "a=\"bbb\"\n",
    "d=\"fff\"\n",
    "c=a+d\n",
    "print(a*2)\n",
    "print(c)"
   ]
  },
  {
   "cell_type": "code",
   "execution_count": null,
   "metadata": {},
   "outputs": [],
   "source": []
  },
  {
   "cell_type": "code",
   "execution_count": 62,
   "metadata": {},
   "outputs": [],
   "source": [
    "def kkk():\n",
    "    res=0\n",
    "    a=input(\">>\")\n",
    "    b=input(\">>\")\n",
    "    c=\"\"\n",
    "    for i in range(1,int(a)+1):\n",
    "        print(b*i)\n",
    "        res=res+int(b)*i\n",
    "        c=c+b*i+\"+\"\n",
    "        \n",
    "    print(c)\n",
    "        \n",
    "        "
   ]
  },
  {
   "cell_type": "code",
   "execution_count": 63,
   "metadata": {},
   "outputs": [
    {
     "name": "stdout",
     "output_type": "stream",
     "text": [
      ">>4\n",
      ">>5\n",
      "5\n",
      "55\n",
      "555\n",
      "5555\n",
      "5+55+555+5555+\n"
     ]
    }
   ],
   "source": [
    "kkk()\n"
   ]
  },
  {
   "cell_type": "code",
   "execution_count": 68,
   "metadata": {},
   "outputs": [
    {
     "name": "stdout",
     "output_type": "stream",
     "text": [
      "      .       \n",
      "     ...      \n",
      "    .....     \n",
      "   .......    \n",
      "    .....     \n",
      "     ...      \n",
      "      .       \n"
     ]
    }
   ],
   "source": [
    "print(\"      .       \")\n",
    "print(\"     ...      \")\n",
    "print(\"    .....     \")\n",
    "print(\"   .......    \")\n",
    "print(\"    .....     \")\n",
    "print(\"     ...      \")\n",
    "print(\"      .       \")"
   ]
  },
  {
   "cell_type": "code",
   "execution_count": 69,
   "metadata": {},
   "outputs": [
    {
     "name": "stdout",
     "output_type": "stream",
     "text": [
      "     ......     ......      \n",
      "    ........   ........     \n",
      "      ....... .......       \n",
      "       .............        \n",
      "         .........          \n",
      "           .....            \n",
      "             .              \n"
     ]
    }
   ],
   "source": [
    "print(\"     ......     ......      \")\n",
    "print(\"    ........   ........     \")\n",
    "print(\"      ....... .......       \")\n",
    "print(\"       .............        \")\n",
    "print(\"         .........          \")\n",
    "print(\"           .....            \")\n",
    "print(\"             .              \")"
   ]
  },
  {
   "cell_type": "code",
   "execution_count": null,
   "metadata": {},
   "outputs": [],
   "source": [
    "#高空抛物"
   ]
  },
  {
   "cell_type": "code",
   "execution_count": 71,
   "metadata": {},
   "outputs": [],
   "source": [
    "def high():\n",
    "    a=0\n",
    "    b=0\n",
    "    for i in range(1,100):\n",
    "        n=n/2*i\n",
    "        for c in range(1,100,n):\n",
    "            b=b+i\n",
    "    print(b)\n",
    "        "
   ]
  },
  {
   "cell_type": "code",
   "execution_count": 72,
   "metadata": {},
   "outputs": [
    {
     "ename": "UnboundLocalError",
     "evalue": "local variable 'n' referenced before assignment",
     "output_type": "error",
     "traceback": [
      "\u001b[1;31m---------------------------------------------------------------------------\u001b[0m",
      "\u001b[1;31mUnboundLocalError\u001b[0m                         Traceback (most recent call last)",
      "\u001b[1;32m<ipython-input-72-dce461c50632>\u001b[0m in \u001b[0;36m<module>\u001b[1;34m\u001b[0m\n\u001b[1;32m----> 1\u001b[1;33m \u001b[0mhigh\u001b[0m\u001b[1;33m(\u001b[0m\u001b[1;33m)\u001b[0m\u001b[1;33m\u001b[0m\u001b[1;33m\u001b[0m\u001b[0m\n\u001b[0m",
      "\u001b[1;32m<ipython-input-71-d93dd48d8cb1>\u001b[0m in \u001b[0;36mhigh\u001b[1;34m()\u001b[0m\n\u001b[0;32m      3\u001b[0m     \u001b[0mb\u001b[0m\u001b[1;33m=\u001b[0m\u001b[1;36m0\u001b[0m\u001b[1;33m\u001b[0m\u001b[1;33m\u001b[0m\u001b[0m\n\u001b[0;32m      4\u001b[0m     \u001b[1;32mfor\u001b[0m \u001b[0mi\u001b[0m \u001b[1;32min\u001b[0m \u001b[0mrange\u001b[0m\u001b[1;33m(\u001b[0m\u001b[1;36m1\u001b[0m\u001b[1;33m,\u001b[0m\u001b[1;36m100\u001b[0m\u001b[1;33m)\u001b[0m\u001b[1;33m:\u001b[0m\u001b[1;33m\u001b[0m\u001b[1;33m\u001b[0m\u001b[0m\n\u001b[1;32m----> 5\u001b[1;33m         \u001b[0mn\u001b[0m\u001b[1;33m=\u001b[0m\u001b[0mn\u001b[0m\u001b[1;33m/\u001b[0m\u001b[1;36m2\u001b[0m\u001b[1;33m*\u001b[0m\u001b[0mi\u001b[0m\u001b[1;33m\u001b[0m\u001b[1;33m\u001b[0m\u001b[0m\n\u001b[0m\u001b[0;32m      6\u001b[0m         \u001b[1;32mfor\u001b[0m \u001b[0mc\u001b[0m \u001b[1;32min\u001b[0m \u001b[0mrange\u001b[0m\u001b[1;33m(\u001b[0m\u001b[1;36m1\u001b[0m\u001b[1;33m,\u001b[0m\u001b[1;36m100\u001b[0m\u001b[1;33m,\u001b[0m\u001b[0mn\u001b[0m\u001b[1;33m)\u001b[0m\u001b[1;33m:\u001b[0m\u001b[1;33m\u001b[0m\u001b[1;33m\u001b[0m\u001b[0m\n\u001b[0;32m      7\u001b[0m             \u001b[0mb\u001b[0m\u001b[1;33m=\u001b[0m\u001b[0mb\u001b[0m\u001b[1;33m+\u001b[0m\u001b[0mi\u001b[0m\u001b[1;33m\u001b[0m\u001b[1;33m\u001b[0m\u001b[0m\n",
      "\u001b[1;31mUnboundLocalError\u001b[0m: local variable 'n' referenced before assignment"
     ]
    }
   ],
   "source": [
    "high()"
   ]
  },
  {
   "cell_type": "code",
   "execution_count": null,
   "metadata": {},
   "outputs": [],
   "source": [
    "#塔"
   ]
  },
  {
   "cell_type": "code",
   "execution_count": 36,
   "metadata": {},
   "outputs": [],
   "source": [
    "def ta():\n",
    "    list1=[]\n",
    "    list2=[]\n",
    "    a=input(\"输入开始放置罗盘 \")\n",
    "    if a==\"开始\":\n",
    "        for i in range(1,11):\n",
    "            list1.append(i)\n",
    "        print(\"罗盘放置好啦！\",list1)\n",
    "        b=eval(input(\"要怎么转移罗盘呢？0:直接转移。 1:利用第三根柱子转移\"))\n",
    "        if b==0:\n",
    "            print(\"错了！笨！\")\n",
    "        if b==1:\n",
    "            print(\"对啦！像这样先放到第三个柱子上\")\n",
    "            for c in list1[10:0:-1]:\n",
    "                list2.append(c)\n",
    "            list2.append(1)\n",
    "            print(list2)\n",
    "            d=input(\"输入 ‘继续’ 把罗盘放好完成游戏吧！\")\n",
    "            if d==\"继续\":\n",
    "                print(list1[0:5])\n",
    "                f=eval(input(\"完成一半啦！好累啊~冲点钱鼓励一下我吧！输入666充值666元\"))\n",
    "                if f==666:\n",
    "                    print(list1[0:10],\"完成啦！\")\n",
    "                else:\n",
    "                    print(\"搬不动了！拜拜~~\")\n",
    "            else:\n",
    "                print(\"要去学习了吗？那好吧~bye\")\n",
    "                \n",
    "            \n",
    "            \n",
    "        \n",
    "    "
   ]
  },
  {
   "cell_type": "code",
   "execution_count": null,
   "metadata": {},
   "outputs": [],
   "source": [
    "ta()"
   ]
  },
  {
   "cell_type": "markdown",
   "metadata": {},
   "source": [
    "# Homework\n",
    "- 1\n",
    "![](../Photo/74.png)"
   ]
  },
  {
   "cell_type": "code",
   "execution_count": 106,
   "metadata": {},
   "outputs": [],
   "source": [
    "def hanzhuerde():\n",
    "    count=0\n",
    "    for i in range(1,101):\n",
    "        j=i*(3*i-1)/2\n",
    "        count+=1\n",
    "        print(j,end=\" \")\n",
    "        if count%10==0:\n",
    "            print(\" \")"
   ]
  },
  {
   "cell_type": "code",
   "execution_count": 107,
   "metadata": {},
   "outputs": [
    {
     "name": "stdout",
     "output_type": "stream",
     "text": [
      "1.0 5.0 12.0 22.0 35.0 51.0 70.0 92.0 117.0 145.0  \n",
      "176.0 210.0 247.0 287.0 330.0 376.0 425.0 477.0 532.0 590.0  \n",
      "651.0 715.0 782.0 852.0 925.0 1001.0 1080.0 1162.0 1247.0 1335.0  \n",
      "1426.0 1520.0 1617.0 1717.0 1820.0 1926.0 2035.0 2147.0 2262.0 2380.0  \n",
      "2501.0 2625.0 2752.0 2882.0 3015.0 3151.0 3290.0 3432.0 3577.0 3725.0  \n",
      "3876.0 4030.0 4187.0 4347.0 4510.0 4676.0 4845.0 5017.0 5192.0 5370.0  \n",
      "5551.0 5735.0 5922.0 6112.0 6305.0 6501.0 6700.0 6902.0 7107.0 7315.0  \n",
      "7526.0 7740.0 7957.0 8177.0 8400.0 8626.0 8855.0 9087.0 9322.0 9560.0  \n",
      "9801.0 10045.0 10292.0 10542.0 10795.0 11051.0 11310.0 11572.0 11837.0 12105.0  \n",
      "12376.0 12650.0 12927.0 13207.0 13490.0 13776.0 14065.0 14357.0 14652.0 14950.0  \n"
     ]
    }
   ],
   "source": [
    "hanzhuerde()"
   ]
  },
  {
   "cell_type": "markdown",
   "metadata": {},
   "source": [
    "- 2 \n",
    "![](../Photo/75.png)"
   ]
  },
  {
   "cell_type": "code",
   "execution_count": 15,
   "metadata": {},
   "outputs": [],
   "source": [
    "def sumd():\n",
    "    a=input(\"数字\")\n",
    "    b=0\n",
    "    for i in str(a):\n",
    "        b=b+int(i)\n",
    "    print(b)\n",
    "        \n",
    "\n",
    "    "
   ]
  },
  {
   "cell_type": "code",
   "execution_count": 17,
   "metadata": {},
   "outputs": [
    {
     "name": "stdout",
     "output_type": "stream",
     "text": [
      "数字123\n",
      "6\n"
     ]
    }
   ],
   "source": [
    "sumd()"
   ]
  },
  {
   "cell_type": "markdown",
   "metadata": {},
   "source": [
    "- 3\n",
    "![](../Photo/76.png)"
   ]
  },
  {
   "cell_type": "code",
   "execution_count": 30,
   "metadata": {},
   "outputs": [],
   "source": [
    "def dis():\n",
    "    num1,num2,num3=eval(input(\"数字\"))\n",
    "    a=max(num1,num2,num3)\n",
    "    b=min(num1,num2,num3)\n",
    "    if num3!=a and num3!=b:\n",
    "        print(b,num3,a)\n",
    "    elif num2!=a and num2!=b:\n",
    "        print(b,num2,a)   \n",
    "    else:\n",
    "        print(b,num1,a)  \n",
    "    \n",
    "            "
   ]
  },
  {
   "cell_type": "code",
   "execution_count": 32,
   "metadata": {},
   "outputs": [
    {
     "name": "stdout",
     "output_type": "stream",
     "text": [
      "数字4,1,9\n",
      "1 4 9\n"
     ]
    }
   ],
   "source": [
    "dis()"
   ]
  },
  {
   "cell_type": "markdown",
   "metadata": {},
   "source": [
    "- 4\n",
    "![](../Photo/77.png)"
   ]
  },
  {
   "cell_type": "code",
   "execution_count": 18,
   "metadata": {},
   "outputs": [],
   "source": [
    "def fut():\n",
    "    a=eval(input(\"钱\"))\n",
    "    b=eval(input(\"利息\"))\n",
    "    money=0\n",
    "    for i in range(30):\n",
    "        a=a*(1+b)\n",
    "\n",
    "    print(a)\n",
    "        \n",
    "    "
   ]
  },
  {
   "cell_type": "code",
   "execution_count": 19,
   "metadata": {},
   "outputs": [
    {
     "name": "stdout",
     "output_type": "stream",
     "text": [
      "钱1000\n",
      "利息0.01\n",
      "1347.8489153329058\n"
     ]
    }
   ],
   "source": [
    "fut()"
   ]
  },
  {
   "cell_type": "markdown",
   "metadata": {},
   "source": [
    "- 5\n",
    "![](../Photo/78.png)"
   ]
  },
  {
   "cell_type": "code",
   "execution_count": 10,
   "metadata": {},
   "outputs": [],
   "source": [
    "def pri(a,b,c):\n",
    "    d=0\n",
    "    for i in range(a,b):\n",
    "        print(chr(i),end=\" \")\n",
    "        d=d+1\n",
    "        if d%c==0:\n",
    "            print(\" \")"
   ]
  },
  {
   "cell_type": "code",
   "execution_count": 11,
   "metadata": {},
   "outputs": [
    {
     "name": "stdout",
     "output_type": "stream",
     "text": [
      "- . / 0 1 2 3 4 5 6  \n",
      "7 8 9 : ; < = > ? @  \n",
      "A B C D E F G H I J  \n",
      "K L M N O P Q R S T  \n",
      "U V W X Y Z [ \\ ] ^  \n",
      "_ ` "
     ]
    }
   ],
   "source": [
    "pri(45,97,10)"
   ]
  },
  {
   "cell_type": "markdown",
   "metadata": {},
   "source": [
    "- 6\n",
    "![](../Photo/79.png)"
   ]
  },
  {
   "cell_type": "code",
   "execution_count": 13,
   "metadata": {},
   "outputs": [],
   "source": [
    "def vvv():\n",
    "    for i in range(2010,2020):\n",
    "        if (i%100!=0) and (i%4==0) or i%400==0:\n",
    "            print(i,\"366\")\n",
    "        else:\n",
    "            print(i,\"365\")\n",
    "        "
   ]
  },
  {
   "cell_type": "code",
   "execution_count": 14,
   "metadata": {},
   "outputs": [
    {
     "name": "stdout",
     "output_type": "stream",
     "text": [
      "2010 365\n",
      "2011 365\n",
      "2012 366\n",
      "2013 365\n",
      "2014 365\n",
      "2015 365\n",
      "2016 366\n",
      "2017 365\n",
      "2018 365\n",
      "2019 365\n"
     ]
    }
   ],
   "source": [
    "vvv()"
   ]
  },
  {
   "cell_type": "markdown",
   "metadata": {},
   "source": [
    "- 7\n",
    "![](../Photo/80.png)"
   ]
  },
  {
   "cell_type": "code",
   "execution_count": 22,
   "metadata": {},
   "outputs": [],
   "source": [
    "def jiao(x1,y1,x2,y2):\n",
    "    chang=(x1-x2)**2+(y1-y2)**2\n",
    "    chang1=chang**(1/2)\n",
    "    print(chang1)"
   ]
  },
  {
   "cell_type": "code",
   "execution_count": 23,
   "metadata": {},
   "outputs": [
    {
     "name": "stdout",
     "output_type": "stream",
     "text": [
      "5.0\n"
     ]
    }
   ],
   "source": [
    "jiao(1,1,4,5)"
   ]
  },
  {
   "cell_type": "markdown",
   "metadata": {},
   "source": [
    "- 8\n",
    "![](../Photo/81.png)"
   ]
  },
  {
   "cell_type": "code",
   "execution_count": 16,
   "metadata": {},
   "outputs": [],
   "source": [
    "def mei():\n",
    "    for i in range(2,31):\n",
    "        for a in range(2,i):\n",
    "            if i%a==0:\n",
    "                break\n",
    "        else:\n",
    "            y=2**i-1\n",
    "            print(i,y)"
   ]
  },
  {
   "cell_type": "code",
   "execution_count": 17,
   "metadata": {},
   "outputs": [
    {
     "name": "stdout",
     "output_type": "stream",
     "text": [
      "2 3\n",
      "3 7\n",
      "5 31\n",
      "7 127\n",
      "11 2047\n",
      "13 8191\n",
      "17 131071\n",
      "19 524287\n",
      "23 8388607\n",
      "29 536870911\n"
     ]
    }
   ],
   "source": [
    "mei()"
   ]
  },
  {
   "cell_type": "markdown",
   "metadata": {},
   "source": [
    "- 9\n",
    "![](../Photo/82.png)\n",
    "![](../Photo/83.png)"
   ]
  },
  {
   "cell_type": "code",
   "execution_count": 1,
   "metadata": {},
   "outputs": [
    {
     "name": "stdout",
     "output_type": "stream",
     "text": [
      "1557499890.2727563\n"
     ]
    }
   ],
   "source": [
    "import time \n",
    "print(time.time())\n"
   ]
  },
  {
   "cell_type": "code",
   "execution_count": 34,
   "metadata": {},
   "outputs": [],
   "source": [
    "def time1():\n",
    "    a=time.time()\n",
    "    miao=a%60\n",
    "    feng=int(a)/60\n",
    "    feng1=int(feng)%60\n",
    "    shi=int(feng)/60\n",
    "    shi1=int(shi)%24\n",
    "    tian=int(shi)/24\n",
    "    yue=int(tian)/12%12\n",
    "    tian1=int(tian)%365\n",
    "    tian2=int(tian)%12\n",
    "    nian=int(tian)/356\n",
    "    nian1=int(nian)%1970\n",
    "    nian2=1970+nian1\n",
    "    print(nian2,\"年\",int(yue),\"月\",tian2,\"日\",shi1,\"点\",feng1,\"分\",int(miao),\"秒\")"
   ]
  },
  {
   "cell_type": "code",
   "execution_count": 35,
   "metadata": {},
   "outputs": [
    {
     "name": "stdout",
     "output_type": "stream",
     "text": [
      "2020 年 2 月 2 日 15 点 16 分 21 秒\n"
     ]
    }
   ],
   "source": [
    "time1()"
   ]
  },
  {
   "cell_type": "markdown",
   "metadata": {},
   "source": [
    "- 10\n",
    "![](../Photo/84.png)"
   ]
  },
  {
   "cell_type": "code",
   "execution_count": 36,
   "metadata": {},
   "outputs": [],
   "source": [
    "import random"
   ]
  },
  {
   "cell_type": "code",
   "execution_count": 40,
   "metadata": {},
   "outputs": [],
   "source": [
    "def suiji():\n",
    "    a=random.randint(1,6)\n",
    "    b=random.randint(1,6)\n",
    "    c=a+b\n",
    "    d=0\n",
    "    print(c)\n",
    "    if c==2 or c==3 or c==12:\n",
    "        print(\"你输了\")\n",
    "    elif c==7 or c==11:\n",
    "        print(\"你赢了\")\n",
    "    else:\n",
    "        d=c\n",
    "    while 1:\n",
    "        e=random.randint(1,6)\n",
    "        f=random.randint(1,6)\n",
    "        g=e+f\n",
    "        print(\"第二次点数\",g)\n",
    "        if g==d:\n",
    "            print(\"你赢了\")\n",
    "            break\n",
    "        elif g==7:\n",
    "            print(\"你输了\")\n",
    "            break\n",
    "        "
   ]
  },
  {
   "cell_type": "code",
   "execution_count": 41,
   "metadata": {},
   "outputs": [
    {
     "name": "stdout",
     "output_type": "stream",
     "text": [
      "8\n",
      "第二次点数 9\n",
      "第二次点数 5\n",
      "第二次点数 4\n",
      "第二次点数 8\n",
      "你赢了\n"
     ]
    }
   ],
   "source": [
    "suiji()"
   ]
  },
  {
   "cell_type": "markdown",
   "metadata": {},
   "source": [
    "- 11 \n",
    "### 去网上寻找如何用Python代码发送邮件"
   ]
  },
  {
   "cell_type": "code",
   "execution_count": null,
   "metadata": {},
   "outputs": [],
   "source": [
    "#找了"
   ]
  }
 ],
 "metadata": {
  "kernelspec": {
   "display_name": "Python 3",
   "language": "python",
   "name": "python3"
  },
  "language_info": {
   "codemirror_mode": {
    "name": "ipython",
    "version": 3
   },
   "file_extension": ".py",
   "mimetype": "text/x-python",
   "name": "python",
   "nbconvert_exporter": "python",
   "pygments_lexer": "ipython3",
   "version": "3.7.3"
  }
 },
 "nbformat": 4,
 "nbformat_minor": 2
}
