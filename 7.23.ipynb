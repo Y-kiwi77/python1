{
 "cells": [
  {
   "cell_type": "markdown",
   "metadata": {},
   "source": [
    "# 对象和类\n",
    "- 一个学生，一张桌子，一个圆都是对象\n",
    "- 对象是类的一个实例，你可以创建多个对象，创建类的一个实例过程被称为实例化，\n",
    "- 在Python中对象就是实例，而实例就是对象"
   ]
  },
  {
   "cell_type": "markdown",
   "metadata": {},
   "source": [
    "## 定义类\n",
    "class ClassName:\n",
    "\n",
    "    do something\n",
    "    \n",
    "- class 类的表示与def 一样\n",
    "- 类名最好使用驼峰式\n",
    "- 在Python2中类是需要继承基类object的，在Python中默认继承，可写可不写\n",
    "- 可以将普通代码理解为皮肤，而函数可以理解为内衣，那么类可以理解为外套"
   ]
  },
  {
   "cell_type": "markdown",
   "metadata": {},
   "source": [
    "## 定义一个不含初始化__init__的简单类\n",
    "class ClassName:\n",
    "\n",
    "    joker = “Home”\n",
    "    \n",
    "    def func():\n",
    "        print('Worker')\n",
    "    \n",
    "- 尽量少使用"
   ]
  },
  {
   "cell_type": "code",
   "execution_count": null,
   "metadata": {},
   "outputs": [],
   "source": [
    "#类必须初始化，是用self，初始化自身。\n",
    "#类里面所有的函数中的第一个变量不再是参数，而是一个印记。\n",
    "#第二个def里的函数定义参数时忽略self。\n",
    "#如果有参数需要多次使用，可以定义这两个参数，就不用重复输入了。\n",
    "class joker:\n",
    "    def _init_ (self):\n",
    "        print(\"初始化完成啦\")\n",
    "    def print_(self):\n",
    "        print(\"hahaha\")"
   ]
  },
  {
   "cell_type": "code",
   "execution_count": 18,
   "metadata": {},
   "outputs": [],
   "source": [
    "class ou:\n",
    "    def __init__(self):\n",
    "        print(\"初始化完成\")\n",
    "    def oushu(self,name):\n",
    "        if name%2==0:\n",
    "            a=\"偶数\"\n",
    "        else:\n",
    "            a=\"奇数\"\n",
    "        return a\n",
    "    def nian(self,name1):\n",
    "        if (name1%100!=0) and (name1%4==0) or name1%400==0:\n",
    "            b=\"闰年\"\n",
    "        else:\n",
    "            b=\"平年\"\n",
    "        return b"
   ]
  },
  {
   "cell_type": "code",
   "execution_count": 19,
   "metadata": {},
   "outputs": [
    {
     "name": "stdout",
     "output_type": "stream",
     "text": [
      "初始化完成\n"
     ]
    }
   ],
   "source": [
    "yjy=ou()"
   ]
  },
  {
   "cell_type": "code",
   "execution_count": 20,
   "metadata": {},
   "outputs": [
    {
     "data": {
      "text/plain": [
       "'奇数'"
      ]
     },
     "execution_count": 20,
     "metadata": {},
     "output_type": "execute_result"
    }
   ],
   "source": [
    "yjy.oushu(5)"
   ]
  },
  {
   "cell_type": "code",
   "execution_count": 21,
   "metadata": {},
   "outputs": [
    {
     "data": {
      "text/plain": [
       "'闰年'"
      ]
     },
     "execution_count": 21,
     "metadata": {},
     "output_type": "execute_result"
    }
   ],
   "source": [
    "yjy.nian(2012)   "
   ]
  },
  {
   "cell_type": "markdown",
   "metadata": {},
   "source": [
    "\n",
    "\n",
    "## 定义一个标准类\n",
    "- __init__ 代表初始化，可以初始化任何动作\n",
    "- 此时类调用要使用()，其中（）可以理解为开始初始化\n",
    "- 初始化内的元素，类中其他的函数可以共享\n",
    "![](../Photo/85.png)"
   ]
  },
  {
   "cell_type": "code",
   "execution_count": 1,
   "metadata": {},
   "outputs": [],
   "source": [
    "# Circle 和 className_ 的第一个区别有 __init__ 这个函数\n",
    "# 第二个区别，类中的每一个函数都有self的这个“参数”"
   ]
  },
  {
   "cell_type": "markdown",
   "metadata": {},
   "source": [
    "## 何为self？\n",
    "- self 是指向对象本身的参数\n",
    "- self 只是一个命名规则，其实可以改变的，但是我们约定俗成的是self，也便于理解\n",
    "- 使用了self就可以访问类中定义的成员\n",
    "<img src=\"../Photo/86.png\"></img>"
   ]
  },
  {
   "cell_type": "markdown",
   "metadata": {},
   "source": [
    "## 使用类 Cirlcle"
   ]
  },
  {
   "cell_type": "markdown",
   "metadata": {},
   "source": [
    "## 类的传参\n",
    "- class ClassName:\n",
    "    \n",
    "        def __init__(self, para1,para2...)：\n",
    "            \n",
    "            self.para1 = para1\n",
    "            \n",
    "            self.para2 = para2"
   ]
  },
  {
   "cell_type": "markdown",
   "metadata": {},
   "source": [
    "## EP:\n",
    "- A：定义一个类，类中含有两个功能：\n",
    "    - 1、产生3个随机数，获取最大值\n",
    "    - 2、产生3个随机数，获取最小值\n",
    "- B：定义一个类，（类中函数的嵌套使用）\n",
    "    - 1、第一个函数的功能为：输入一个数字\n",
    "    - 2、第二个函数的功能为：使用第一个函数中得到的数字进行平方处理\n",
    "    - 3、第三个函数的功能为：得到平方处理后的数字 - 原来输入的数字，并打印结果"
   ]
  },
  {
   "cell_type": "code",
   "execution_count": 1,
   "metadata": {},
   "outputs": [],
   "source": [
    "import random"
   ]
  },
  {
   "cell_type": "code",
   "execution_count": null,
   "metadata": {},
   "outputs": [],
   "source": [
    "#调用参数"
   ]
  },
  {
   "cell_type": "code",
   "execution_count": null,
   "metadata": {},
   "outputs": [],
   "source": [
    "class suiji:\n",
    "    def __init__(self):\n",
    "        print(\"初始化完成\")\n",
    "    def max_(self):\n",
    "        num1=random.randint(1,10)\n",
    "        num2=random.randint(1,10)\n",
    "        num3=random.randint(1,10)\n",
    "class suiji:\n",
    "    def __init__(self):\n",
    "        print(\"初始化完成\")\n",
    "    def max_(self):\n",
    "        self.num1=random.randint(1,10)\n",
    "        self.num2=random.randint(1,10)\n",
    "        self.num3=random.randint(1,10)\n",
    "        print(self.num1,self.num2,self.num3)\n",
    "\n",
    "        return max(self.num1,self.num2,self.num3)\n",
    "    def min_(self):\n",
    "        print(num1,num2,num3)\n",
    "        return mix(self.num1,self.num2,self.num3)"
   ]
  },
  {
   "cell_type": "code",
   "execution_count": null,
   "metadata": {},
   "outputs": [],
   "source": [
    "#未调用参数"
   ]
  },
  {
   "cell_type": "code",
   "execution_count": 10,
   "metadata": {},
   "outputs": [],
   "source": [
    "class suiji:\n",
    "    def __init__(self):\n",
    "        print(\"初始化完成\")\n",
    "    def max_(self):\n",
    "        num1=random.randint(1,10)\n",
    "        num2=random.randint(1,10)\n",
    "        num3=random.randint(1,10)\n",
    "        print(num1,num2,num3)\n",
    "        if num1>num2 and num1>num3:\n",
    "            max1=num1\n",
    "        if num2>num1 and num2>num3:\n",
    "            max1=num2\n",
    "        if num3>num2 and num3>num1:\n",
    "            max1=num3\n",
    "        return max1\n",
    "    def min_(self):\n",
    "        num1=random.randint(1,10)\n",
    "        num2=random.randint(1,10)\n",
    "        num3=random.randint(1,10)\n",
    "        print(num1,num2,num3)\n",
    "        if num1<num2 and num1<num3:\n",
    "            min1=num1\n",
    "        if num2<num1 and num2<num3:\n",
    "            min1=num2\n",
    "        if num3<num2 and num3<num1:\n",
    "            min1=num3\n",
    "        return min1        "
   ]
  },
  {
   "cell_type": "code",
   "execution_count": 11,
   "metadata": {},
   "outputs": [
    {
     "name": "stdout",
     "output_type": "stream",
     "text": [
      "初始化完成\n"
     ]
    }
   ],
   "source": [
    "jui=suiji()"
   ]
  },
  {
   "cell_type": "code",
   "execution_count": 12,
   "metadata": {},
   "outputs": [
    {
     "name": "stdout",
     "output_type": "stream",
     "text": [
      "1 5 3\n"
     ]
    },
    {
     "data": {
      "text/plain": [
       "5"
      ]
     },
     "execution_count": 12,
     "metadata": {},
     "output_type": "execute_result"
    }
   ],
   "source": [
    "jui.max_()"
   ]
  },
  {
   "cell_type": "code",
   "execution_count": 13,
   "metadata": {},
   "outputs": [
    {
     "name": "stdout",
     "output_type": "stream",
     "text": [
      "9 10 2\n"
     ]
    },
    {
     "data": {
      "text/plain": [
       "2"
      ]
     },
     "execution_count": 13,
     "metadata": {},
     "output_type": "execute_result"
    }
   ],
   "source": [
    "jui.min_()"
   ]
  },
  {
   "cell_type": "code",
   "execution_count": 24,
   "metadata": {},
   "outputs": [],
   "source": [
    "class epb:\n",
    "    def __init__(self):\n",
    "        print(\"我初始化了\")\n",
    "    def shuru(self):\n",
    "        self.d=eval(input(\"输入一个数字\"))\n",
    "        return self.d\n",
    "    def pingfanf(self):\n",
    "        d=self.shuru()\n",
    "        self.t=self.d**2\n",
    "        print(self.t)\n",
    "        "
   ]
  },
  {
   "cell_type": "code",
   "execution_count": 25,
   "metadata": {},
   "outputs": [
    {
     "name": "stdout",
     "output_type": "stream",
     "text": [
      "我初始化了\n"
     ]
    }
   ],
   "source": [
    "epb1=epb()"
   ]
  },
  {
   "cell_type": "code",
   "execution_count": 17,
   "metadata": {},
   "outputs": [
    {
     "name": "stdout",
     "output_type": "stream",
     "text": [
      "输入一个数字5\n"
     ]
    },
    {
     "data": {
      "text/plain": [
       "5"
      ]
     },
     "execution_count": 17,
     "metadata": {},
     "output_type": "execute_result"
    }
   ],
   "source": [
    "epb1.shuru()"
   ]
  },
  {
   "cell_type": "code",
   "execution_count": null,
   "metadata": {},
   "outputs": [],
   "source": [
    "#函数间的相互调用，在pingfang里调用了shuru（） 可以跳过按顺序的流程"
   ]
  },
  {
   "cell_type": "code",
   "execution_count": 26,
   "metadata": {},
   "outputs": [
    {
     "name": "stdout",
     "output_type": "stream",
     "text": [
      "输入一个数字5\n",
      "25\n"
     ]
    }
   ],
   "source": [
    "epb1.pingfanf()"
   ]
  },
  {
   "cell_type": "code",
   "execution_count": 1,
   "metadata": {},
   "outputs": [],
   "source": [
    "import random\n",
    "class QQ:\n",
    "    def __init__(self):\n",
    "        print(\"我初始化了\")\n",
    "    def deng(self):\n",
    "        a=eval(input(\"账号\"))\n",
    "        b=input(\"密码\")\n",
    "        if a==123456 and b==\"123abc\":\n",
    "            print(\"登录成功\")\n",
    "        else:\n",
    "            print(\"密码或账号错误\")\n",
    "            num=random.randint(1000,9999)\n",
    "            print(num)\n",
    "            c=eval(input(\"请输入验证码\"))\n",
    "            while 1:\n",
    "                num=random.randint(1000,9999)\n",
    "                print(num)\n",
    "                c=eval(input(\"请输入验证码\"))\n",
    "                if c!=num:\n",
    "                    c=eval(input(\"请输入验证码\"))\n",
    "                elif c==num:\n",
    "                    a=eval(input(\"账号\"))\n",
    "                    b=input(\"密码\")\n",
    "                    if a==123456 and b==\"123abc\":\n",
    "                        print(\"登录成功\")\n",
    "                        break\n",
    "        "
   ]
  },
  {
   "cell_type": "code",
   "execution_count": 2,
   "metadata": {},
   "outputs": [
    {
     "name": "stdout",
     "output_type": "stream",
     "text": [
      "我初始化了\n"
     ]
    }
   ],
   "source": [
    "www=QQ()"
   ]
  },
  {
   "cell_type": "code",
   "execution_count": 3,
   "metadata": {},
   "outputs": [
    {
     "name": "stdout",
     "output_type": "stream",
     "text": [
      "账号123\n",
      "密码123\n",
      "密码或账号错误\n",
      "8738\n",
      "请输入验证码877\n",
      "8824\n",
      "请输入验证码8824\n",
      "账号123456\n",
      "密码123abc\n",
      "登录成功\n"
     ]
    }
   ],
   "source": [
    "www.deng()"
   ]
  },
  {
   "cell_type": "code",
   "execution_count": 8,
   "metadata": {},
   "outputs": [],
   "source": [
    "class A:\n",
    "    def __init__(self):\n",
    "        self.a=\"aaa\"\n",
    "    def a_(self):\n",
    "        print(\"hello\")\n",
    "\n",
    "class B:\n",
    "    def __init__(self):\n",
    "        #告诉A，B即将继承A。\n",
    "        A.__init__(self)\n",
    "        print(self.a"
   ]
  },
  {
   "cell_type": "code",
   "execution_count": 9,
   "metadata": {},
   "outputs": [
    {
     "name": "stdout",
     "output_type": "stream",
     "text": [
      "aaa\n"
     ]
    }
   ],
   "source": [
    "bb=B()"
   ]
  },
  {
   "cell_type": "code",
   "execution_count": null,
   "metadata": {},
   "outputs": [],
   "source": [
    "#静态调用方法\n",
    "# @staticmethod\n",
    "#把上式写在函数中可直接调用普通函数。没有印记也可以。"
   ]
  },
  {
   "cell_type": "code",
   "execution_count": null,
   "metadata": {},
   "outputs": [],
   "source": [
    "#在class前def 一个普通函数，也可在类中直接调用。"
   ]
  },
  {
   "cell_type": "code",
   "execution_count": 10,
   "metadata": {},
   "outputs": [],
   "source": [
    "def ccc():\n",
    "    print(\"kkk\")\n",
    "class A:\n",
    "    def __init__(self):\n",
    "        self.a=\"aaa\"\n",
    "    def a_(self):\n",
    "        print(\"hello\")\n",
    "        ccc()"
   ]
  },
  {
   "cell_type": "code",
   "execution_count": 11,
   "metadata": {},
   "outputs": [],
   "source": [
    "www=A()"
   ]
  },
  {
   "cell_type": "code",
   "execution_count": 12,
   "metadata": {},
   "outputs": [
    {
     "name": "stdout",
     "output_type": "stream",
     "text": [
      "hello\n",
      "kkk\n"
     ]
    }
   ],
   "source": [
    "www.a_()"
   ]
  },
  {
   "cell_type": "markdown",
   "metadata": {},
   "source": [
    "## 类的继承\n",
    "- 类的单继承\n",
    "- 类的多继承\n",
    "- 继承标识\n",
    ">  class SonClass(FatherClass):\n",
    "            \n",
    "            def __init__(self):\n",
    "            \n",
    "                FatherClass.__init__(self)"
   ]
  },
  {
   "cell_type": "markdown",
   "metadata": {},
   "source": [
    "## 私有数据域(私有变量，或者私有函数)\n",
    "- 在Python中 变量名或者函数名使用双下划线代表私有  \\__Joker,   def \\__Joker():\n",
    "- 私有数据域不可继承\n",
    "- 私有数据域强制继承   \\__dir__()"
   ]
  },
  {
   "cell_type": "code",
   "execution_count": null,
   "metadata": {},
   "outputs": [],
   "source": [
    "#私有变量相当于改了个名字，只要能找到原本的名字还是可以调用的。"
   ]
  },
  {
   "cell_type": "markdown",
   "metadata": {},
   "source": [
    "![](../Photo/87.png)"
   ]
  },
  {
   "cell_type": "markdown",
   "metadata": {},
   "source": [
    "## EP:\n",
    "![](../Photo/88.png)\n",
    "![](../Photo/89.png)\n",
    "![](../Photo/90.png)\n"
   ]
  },
  {
   "cell_type": "markdown",
   "metadata": {},
   "source": [
    "## 类的其他\n",
    "- 类的封装\n",
    "    - 实际上就是将一类功能放在一起，方便未来进行管理\n",
    "- 类的继承（上面已经讲过）\n",
    "- 类的多态\n",
    "    - 包括装饰器：将放在以后处理高级类中教\n",
    "    - 装饰器的好处：当许多类中的函数需要使用同一个功能的时候，那么使用装饰器就会方便许多\n",
    "    - 装饰器是有固定的写法\n",
    "        - 其包括普通装饰器与带参装饰器"
   ]
  },
  {
   "cell_type": "markdown",
   "metadata": {},
   "source": [
    "# Homewor\n",
    "## UML类图可以不用画\n",
    "## UML 实际上就是一个思维图\n",
    "- 1\n",
    "![](../Photo/91.png)"
   ]
  },
  {
   "cell_type": "code",
   "execution_count": 27,
   "metadata": {},
   "outputs": [],
   "source": [
    "class rec():\n",
    "    #初始化自己\n",
    "    def __init__(self):\n",
    "    #设置固定参数\n",
    "        self.wid=1\n",
    "        self.hei=2\n",
    "    #第一个小功能面积\n",
    "    def geta(self):\n",
    "        area=self.wid*self.hei\n",
    "        print(\"面积是\",area)\n",
    "    #第二个小功能周长\n",
    "    def per(self):\n",
    "        peri=(self.wid*self.hei)*2\n",
    "        print(\"周长是\",peri)\n",
    "        "
   ]
  },
  {
   "cell_type": "code",
   "execution_count": 28,
   "metadata": {},
   "outputs": [],
   "source": [
    "ft=rec()"
   ]
  },
  {
   "cell_type": "code",
   "execution_count": 29,
   "metadata": {},
   "outputs": [
    {
     "name": "stdout",
     "output_type": "stream",
     "text": [
      "面积是 2\n"
     ]
    }
   ],
   "source": [
    "ft.geta()"
   ]
  },
  {
   "cell_type": "code",
   "execution_count": 30,
   "metadata": {},
   "outputs": [
    {
     "name": "stdout",
     "output_type": "stream",
     "text": [
      "周长是 4\n"
     ]
    }
   ],
   "source": [
    "ft.per()"
   ]
  },
  {
   "cell_type": "markdown",
   "metadata": {},
   "source": [
    "- 2\n",
    "![](../Photo/92.png)"
   ]
  },
  {
   "cell_type": "code",
   "execution_count": 46,
   "metadata": {},
   "outputs": [],
   "source": [
    "class acc():\n",
    "    #初始化自己\n",
    "    def __init__(self):\n",
    "    #设置固定参数\n",
    "        __bala=1.0\n",
    "        self.id=0\n",
    "        self.money=20000\n",
    "        self.qu=2500\n",
    "        self.cun=3000\n",
    "        self.lixi=0.045\n",
    "        print(__bala)\n",
    "    #存钱功能\n",
    "    def fang(self):\n",
    "        self.id=1122\n",
    "        self.money=self.money+self.cun\n",
    "        #存钱后利息\n",
    "        money1=self.money*self.lixi\n",
    "        print(self.id,\"用户\",\"现有钱\",self.money,\"每月可得\",money1)\n",
    "    #取钱功能\n",
    "    def na(self):\n",
    "        self.id=1122\n",
    "        self.money=self.money-self.qu\n",
    "        money2=self.money*self.lixi\n",
    "        print(self.id,\"用户\",\"现有钱\",self.money,\"每月可得\",money2)"
   ]
  },
  {
   "cell_type": "code",
   "execution_count": 47,
   "metadata": {},
   "outputs": [
    {
     "name": "stdout",
     "output_type": "stream",
     "text": [
      "1.0\n"
     ]
    }
   ],
   "source": [
    "acc1=acc()"
   ]
  },
  {
   "cell_type": "code",
   "execution_count": 48,
   "metadata": {},
   "outputs": [
    {
     "name": "stdout",
     "output_type": "stream",
     "text": [
      "1122 用户 现有钱 23000 每月可得 1035.0\n"
     ]
    }
   ],
   "source": [
    "acc1.fang()"
   ]
  },
  {
   "cell_type": "code",
   "execution_count": 49,
   "metadata": {},
   "outputs": [
    {
     "name": "stdout",
     "output_type": "stream",
     "text": [
      "1122 用户 现有钱 20500 每月可得 922.5\n"
     ]
    }
   ],
   "source": [
    "acc1.na()"
   ]
  },
  {
   "cell_type": "markdown",
   "metadata": {},
   "source": [
    "- 3\n",
    "![](../Photo/93.png)"
   ]
  },
  {
   "cell_type": "code",
   "execution_count": 5,
   "metadata": {},
   "outputs": [],
   "source": [
    "class fen():\n",
    "    #初始化自己\n",
    "    def __init__(self):\n",
    "    #设置初始参数\n",
    "        self.__speed=\"slow\"\n",
    "        self.__on=\"false\"\n",
    "        self.__rad=5\n",
    "        self.__color=\"blue\"\n",
    "    #第一个风扇\n",
    "    def yi(self):\n",
    "        self.__speed=\"medium\"\n",
    "        self.__on=\"关闭\" \n",
    "        print(\"这个风扇速度是\",self.__speed,\"状态是\",self.__on,\"半径为\",self.__rad,\"颜色是\",self.__color)\n",
    "    #第二个风扇\n",
    "    def er(self):\n",
    "        self.__speed=\"fast\"\n",
    "        self.__on=\"打开\"\n",
    "        self.__rad=10\n",
    "        self.__color=\"yellow\" \n",
    "        print(\"这个风扇速度是\",self.__speed,\"状态是\",self.__on,\"半径为\",self.__rad,\"颜色是\",self.__color)"
   ]
  },
  {
   "cell_type": "code",
   "execution_count": 6,
   "metadata": {},
   "outputs": [],
   "source": [
    "feng=fen()"
   ]
  },
  {
   "cell_type": "code",
   "execution_count": 7,
   "metadata": {},
   "outputs": [
    {
     "name": "stdout",
     "output_type": "stream",
     "text": [
      "这个风扇速度是 medium 状态是 关闭 半径为 5 颜色是 blue\n"
     ]
    }
   ],
   "source": [
    "feng.yi()"
   ]
  },
  {
   "cell_type": "code",
   "execution_count": 8,
   "metadata": {},
   "outputs": [
    {
     "name": "stdout",
     "output_type": "stream",
     "text": [
      "这个风扇速度是 fast 状态是 打开 半径为 10 颜色是 yellow\n"
     ]
    }
   ],
   "source": [
    "feng.er()"
   ]
  },
  {
   "cell_type": "markdown",
   "metadata": {},
   "source": [
    "- 4\n",
    "![](../Photo/94.png)\n",
    "![](../Photo/95.png)"
   ]
  },
  {
   "cell_type": "code",
   "execution_count": 14,
   "metadata": {},
   "outputs": [],
   "source": [
    "import math\n",
    "class bian():\n",
    "    #初始化自己\n",
    "    def __init__(self):\n",
    "    #设置初始参数\n",
    "        self.__n=eval(input(\"边数\"))\n",
    "        self.__side=eval(input(\"边长\"))\n",
    "    #多边形周长\n",
    "    def zhou(self):\n",
    "        print(self.__n*self.__side)\n",
    "        \n",
    "    #多边形面积\n",
    "    def mian(self):\n",
    "        area=self.__n*self.__side/4*math.tan(math.pi/self.__n)\n",
    "        print(area)\n",
    "    #测试对象三\n",
    "    def reg3(self):\n",
    "        pass"
   ]
  },
  {
   "cell_type": "code",
   "execution_count": 15,
   "metadata": {},
   "outputs": [
    {
     "name": "stdout",
     "output_type": "stream",
     "text": [
      "边数3\n",
      "边长1\n"
     ]
    }
   ],
   "source": [
    "k1=bian()"
   ]
  },
  {
   "cell_type": "code",
   "execution_count": 16,
   "metadata": {},
   "outputs": [
    {
     "name": "stdout",
     "output_type": "stream",
     "text": [
      "3\n"
     ]
    }
   ],
   "source": [
    "k1.zhou()"
   ]
  },
  {
   "cell_type": "code",
   "execution_count": 17,
   "metadata": {},
   "outputs": [
    {
     "name": "stdout",
     "output_type": "stream",
     "text": [
      "1.2990381056766576\n"
     ]
    }
   ],
   "source": [
    "k1.mian()"
   ]
  },
  {
   "cell_type": "markdown",
   "metadata": {},
   "source": [
    "- 5\n",
    "![](../Photo/96.png)"
   ]
  },
  {
   "cell_type": "code",
   "execution_count": 25,
   "metadata": {},
   "outputs": [],
   "source": [
    "class bian():\n",
    "    #初始化自己\n",
    "    def __init__(self):\n",
    "    #设置初始参数\n",
    "        self.__a=eval(input(\"请输入a\"))\n",
    "        self.__b=eval(input(\"请输入b\"))\n",
    "        self.__c=eval(input(\"请输入c\"))\n",
    "        self.__d=eval(input(\"请输入d\"))\n",
    "        self.__e=eval(input(\"请输入e\"))\n",
    "        self.__f=eval(input(\"请输入f\"))        \n",
    "    #判断方程是否成立\n",
    "    def iss(self):\n",
    "        if self.__a*self.__d-self.__b*self.__c!=0:\n",
    "            return \"true\"\n",
    "        else:\n",
    "            return \"这个方程无解\"\n",
    "    #求解x\n",
    "    def getx(self):\n",
    "        self.X=(self.__e*self.__d-self.__b*self.__f)/(self.__a*self.__d-self.__b*self.__c)\n",
    "        return self.X\n",
    "    #求解y\n",
    "    def gety(self):\n",
    "        self.Y=(self.__a*self.__f-self.__e*self.__c)/(self.__a*self.__d-self.__b*self.__c)\n",
    "        return self.Y"
   ]
  },
  {
   "cell_type": "code",
   "execution_count": 26,
   "metadata": {},
   "outputs": [
    {
     "name": "stdout",
     "output_type": "stream",
     "text": [
      "请输入a5\n",
      "请输入b4\n",
      "请输入c3\n",
      "请输入d2\n",
      "请输入e1\n",
      "请输入f1\n"
     ]
    }
   ],
   "source": [
    "jie=bian()"
   ]
  },
  {
   "cell_type": "code",
   "execution_count": 27,
   "metadata": {},
   "outputs": [
    {
     "data": {
      "text/plain": [
       "'true'"
      ]
     },
     "execution_count": 27,
     "metadata": {},
     "output_type": "execute_result"
    }
   ],
   "source": [
    "jie.iss()"
   ]
  },
  {
   "cell_type": "code",
   "execution_count": 28,
   "metadata": {},
   "outputs": [
    {
     "data": {
      "text/plain": [
       "1.0"
      ]
     },
     "execution_count": 28,
     "metadata": {},
     "output_type": "execute_result"
    }
   ],
   "source": [
    "jie.getx()"
   ]
  },
  {
   "cell_type": "code",
   "execution_count": 29,
   "metadata": {},
   "outputs": [
    {
     "data": {
      "text/plain": [
       "-1.0"
      ]
     },
     "execution_count": 29,
     "metadata": {},
     "output_type": "execute_result"
    }
   ],
   "source": [
    "jie.gety()"
   ]
  },
  {
   "cell_type": "markdown",
   "metadata": {},
   "source": [
    "- 6\n",
    "![](../Photo/97.png)"
   ]
  },
  {
   "cell_type": "code",
   "execution_count": 25,
   "metadata": {},
   "outputs": [],
   "source": [
    "class bian1():\n",
    "    #初始化自己\n",
    "    def __init__(self): \n",
    "        print(\"我初始化啦！\")\n",
    "    #利用两点求k\n",
    "    def kk(self):\n",
    "        #第一条直线\n",
    "        self.x0=eval(input(\"请输入x0 \")) \n",
    "        self.y0=eval(input(\"请输入y0 \")) \n",
    "        self.x1=eval(input(\"请输入x1 \")) \n",
    "        self.y1=eval(input(\"请输入y1 \"))\n",
    "        #第二条直线\n",
    "        self.x2=eval(input(\"请输入x2 \")) \n",
    "        self.y2=eval(input(\"请输入y2 \")) \n",
    "        self.x3=eval(input(\"请输入x3 \")) \n",
    "        self.y3=eval(input(\"请输入y3 \"))\n",
    "        #根据坐标求k\n",
    "        self.k1=(self.y0-self.y1)/(self.x0-self.x1)\n",
    "        self.k2=(self.y2-self.y3)/(self.x2-self.x3)\n",
    "        return self.k1,self.k2\n",
    "    #利用k求截距\n",
    "    def jie(self):\n",
    "        self.b1=self.y1-self.k1*self.x1\n",
    "        self.b2=self.y2-self.k2*self.x2\n",
    "        return self.b1,self.b2\n",
    "    #交点坐标\n",
    "    def jiao(self):\n",
    "        self.kk()\n",
    "        self.jie()\n",
    "        x=(self.b2-self.b1)/(self.k1-self.k2)\n",
    "        y=x*self.k1+self.b1\n",
    "        return x,y\n",
    "    \n",
    "        \n",
    "        "
   ]
  },
  {
   "cell_type": "code",
   "execution_count": 26,
   "metadata": {},
   "outputs": [
    {
     "name": "stdout",
     "output_type": "stream",
     "text": [
      "我初始化啦！\n"
     ]
    }
   ],
   "source": [
    "jiaodian=bian1()"
   ]
  },
  {
   "cell_type": "code",
   "execution_count": 29,
   "metadata": {},
   "outputs": [
    {
     "name": "stdout",
     "output_type": "stream",
     "text": [
      "请输入x0  1\n",
      "请输入y0 1\n",
      "请输入x1 4\n",
      "请输入y1 4\n",
      "请输入x2 7\n",
      "请输入y2 2\n",
      "请输入x3 4\n",
      "请输入y3 5\n"
     ]
    },
    {
     "data": {
      "text/plain": [
       "(4.5, 4.5)"
      ]
     },
     "execution_count": 29,
     "metadata": {},
     "output_type": "execute_result"
    }
   ],
   "source": [
    "jiaodian.jiao()"
   ]
  },
  {
   "cell_type": "code",
   "execution_count": null,
   "metadata": {},
   "outputs": [],
   "source": []
  }
 ],
 "metadata": {
  "kernelspec": {
   "display_name": "Python 3",
   "language": "python",
   "name": "python3"
  },
  "language_info": {
   "codemirror_mode": {
    "name": "ipython",
    "version": 3
   },
   "file_extension": ".py",
   "mimetype": "text/x-python",
   "name": "python",
   "nbconvert_exporter": "python",
   "pygments_lexer": "ipython3",
   "version": "3.7.3"
  }
 },
 "nbformat": 4,
 "nbformat_minor": 2
}
