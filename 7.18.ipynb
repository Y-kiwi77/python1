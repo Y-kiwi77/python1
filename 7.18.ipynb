{
 "cells": [
  {
   "cell_type": "markdown",
   "metadata": {},
   "source": [
    "# 选择\n",
    "## 布尔类型、数值和表达式\n",
    "![](../Photo/33.png)\n",
    "- 注意：比较运算符的相等是两个等号，一个等到代表赋值\n",
    "- 在Python中可以用整型0来代表False，其他数字来代表True\n",
    "- 后面还会讲到 is 在判断语句中的用发"
   ]
  },
  {
   "cell_type": "markdown",
   "metadata": {},
   "source": [
    "## 字符串的比较使用ASCII值"
   ]
  },
  {
   "cell_type": "markdown",
   "metadata": {},
   "source": [
    "## Markdown \n",
    "- https://github.com/younghz/Markdown"
   ]
  },
  {
   "cell_type": "markdown",
   "metadata": {},
   "source": [
    "## EP:\n",
    "- <img src=\"../Photo/34.png\"></img>\n",
    "- 输入一个数字，判断其实奇数还是偶数"
   ]
  },
  {
   "cell_type": "code",
   "execution_count": 5,
   "metadata": {},
   "outputs": [
    {
     "data": {
      "text/plain": [
       "True"
      ]
     },
     "execution_count": 5,
     "metadata": {},
     "output_type": "execute_result"
    }
   ],
   "source": [
    "#除了bool（0）是false以外，其他数全是true\n",
    "#bool(0) 执行时也是false\n",
    "#if bool(1-1):\n",
    "#    print(yes)\n",
    "#else:\n",
    "#    print(no)\n",
    "#结果是打印 no\n",
    " "
   ]
  },
  {
   "cell_type": "code",
   "execution_count": 2,
   "metadata": {
    "scrolled": true
   },
   "outputs": [
    {
     "name": "stdout",
     "output_type": "stream",
     "text": [
      "True\n"
     ]
    }
   ],
   "source": [
    "b1=bool(4)\n",
    "print(b1)"
   ]
  },
  {
   "cell_type": "code",
   "execution_count": 7,
   "metadata": {},
   "outputs": [
    {
     "name": "stdout",
     "output_type": "stream",
     "text": [
      "i!=5\n"
     ]
    }
   ],
   "source": [
    "i=3\n",
    "if i==5:\n",
    "    print('i=5')\n",
    "else:\n",
    "    print(\"i!=5\")\n"
   ]
  },
  {
   "cell_type": "code",
   "execution_count": 9,
   "metadata": {},
   "outputs": [
    {
     "name": "stdout",
     "output_type": "stream",
     "text": [
      "输入i3\n",
      "i!=5\n"
     ]
    }
   ],
   "source": [
    "i=eval(input(\"输入i\" ))\n",
    "if i==5:\n",
    "    print('i=5')\n",
    "else:\n",
    "    print(\"i!=5\")"
   ]
  },
  {
   "cell_type": "code",
   "execution_count": null,
   "metadata": {},
   "outputs": [],
   "source": []
  },
  {
   "cell_type": "markdown",
   "metadata": {},
   "source": [
    "## 产生随机数字\n",
    "- 函数random.randint(a,b) 可以用来产生一个a和b之间且包括a和b的随机整数"
   ]
  },
  {
   "cell_type": "code",
   "execution_count": null,
   "metadata": {},
   "outputs": [],
   "source": []
  },
  {
   "cell_type": "markdown",
   "metadata": {},
   "source": [
    "产生一个随机数，你去输入，如果你输入的数大于随机数，那么就告诉你太大了，反之，太小了，\n",
    "然后你一直输入，知道它满意为止"
   ]
  },
  {
   "cell_type": "code",
   "execution_count": 11,
   "metadata": {},
   "outputs": [
    {
     "name": "stdout",
     "output_type": "stream",
     "text": [
      "比较数50\n",
      "太小了\n",
      "比较数60\n",
      "太小了\n",
      "比较数70\n",
      "太小了\n",
      "比较数80\n",
      "太小了\n",
      "比较数90\n",
      "太小了\n",
      "比较数95\n",
      "yes\n"
     ]
    }
   ],
   "source": [
    "import random\n",
    "a=random.randint(1,100)\n",
    "while 1:\n",
    "    b=eval(input(\"比较数\"))\n",
    "    if a>b:\n",
    "        print(\"太小了\")\n",
    "    if a<b:\n",
    "        print(\"太大了\")\n",
    "    if a==b:\n",
    "        print(\"yes\")\n",
    "        break"
   ]
  },
  {
   "cell_type": "code",
   "execution_count": 7,
   "metadata": {},
   "outputs": [
    {
     "ename": "NameError",
     "evalue": "name 'os' is not defined",
     "output_type": "error",
     "traceback": [
      "\u001b[1;31m---------------------------------------------------------------------------\u001b[0m",
      "\u001b[1;31mNameError\u001b[0m                                 Traceback (most recent call last)",
      "\u001b[1;32m<ipython-input-7-d254eb64b5f1>\u001b[0m in \u001b[0;36m<module>\u001b[1;34m\u001b[0m\n\u001b[0;32m      1\u001b[0m \u001b[1;32mwhile\u001b[0m \u001b[1;36m1\u001b[0m\u001b[1;33m:\u001b[0m\u001b[1;33m\u001b[0m\u001b[1;33m\u001b[0m\u001b[0m\n\u001b[1;32m----> 2\u001b[1;33m     \u001b[0mos\u001b[0m\u001b[1;33m.\u001b[0m\u001b[0msystem\u001b[0m\u001b[1;33m(\u001b[0m\u001b[1;34m\"calc\"\u001b[0m\u001b[1;33m)\u001b[0m\u001b[1;33m\u001b[0m\u001b[1;33m\u001b[0m\u001b[0m\n\u001b[0m",
      "\u001b[1;31mNameError\u001b[0m: name 'os' is not defined"
     ]
    }
   ],
   "source": []
  },
  {
   "cell_type": "markdown",
   "metadata": {},
   "source": [
    "##  其他random方法\n",
    "- random.random 返回0.0到1.0之间前闭后开区间的随机浮点\n",
    "- random.randrange(a,b) 前闭后开"
   ]
  },
  {
   "cell_type": "markdown",
   "metadata": {},
   "source": [
    "## EP：\n",
    "- 产生两个随机整数number1和number2，然后显示给用户，使用户输入数字的和，并判定其是否正确\n",
    "- 进阶:写一个随机序号点名程序"
   ]
  },
  {
   "cell_type": "code",
   "execution_count": 15,
   "metadata": {},
   "outputs": [
    {
     "name": "stdout",
     "output_type": "stream",
     "text": [
      "和为？15\n",
      "太大了\n",
      "和为？10\n",
      "太大了\n",
      "和为？5\n",
      "太小了\n",
      "和为？8\n",
      "太小了\n",
      "和为？9\n"
     ]
    }
   ],
   "source": [
    "import random\n",
    "a=random.randint(1,10)\n",
    "b=random.randint(1,10)\n",
    "c=a+b\n",
    "number=0\n",
    "while number<5:\n",
    "    d=eval(input(\"和为？\"))\n",
    "    if c>d:\n",
    "        print(\"太小了\")\n",
    "    if c<d:\n",
    "        print(\"太大了\")\n",
    "    if c==d:\n",
    "        print(\"yes\")\n",
    "        break\n",
    "    number +=1\n"
   ]
  },
  {
   "cell_type": "code",
   "execution_count": 18,
   "metadata": {},
   "outputs": [
    {
     "name": "stdout",
     "output_type": "stream",
     "text": [
      "和为？50\n",
      "太大了\n",
      "和为？10\n",
      "太大了\n",
      "和为？20\n",
      "太大了\n",
      "和为？30\n",
      "太大了\n",
      "和为？40\n",
      "太大了\n"
     ]
    }
   ],
   "source": [
    "import random\n",
    "a=random.randint(1,10)\n",
    "b=random.randint(1,10)\n",
    "c=a+b\n",
    "for i in range(5):\n",
    "    d=eval(input(\"和为？\"))\n",
    "    if c>d:\n",
    "        print(\"太小了\")\n",
    "    if c<d:\n",
    "        print(\"太大了\")\n",
    "    if c==d:\n",
    "        print(\"yes\")\n",
    "        break\n",
    "\n"
   ]
  },
  {
   "cell_type": "code",
   "execution_count": null,
   "metadata": {},
   "outputs": [],
   "source": [
    "#输入一个数字，把它拆分成因子\n",
    "#range(a,b) 从a按正序输出到b， a，b 可以是数字可以是变量。"
   ]
  },
  {
   "cell_type": "code",
   "execution_count": 21,
   "metadata": {},
   "outputs": [
    {
     "ename": "SyntaxError",
     "evalue": "unexpected EOF while parsing (<ipython-input-21-d1db5b0cce11>, line 3)",
     "output_type": "error",
     "traceback": [
      "\u001b[1;36m  File \u001b[1;32m\"<ipython-input-21-d1db5b0cce11>\"\u001b[1;36m, line \u001b[1;32m3\u001b[0m\n\u001b[1;33m    \u001b[0m\n\u001b[1;37m    ^\u001b[0m\n\u001b[1;31mSyntaxError\u001b[0m\u001b[1;31m:\u001b[0m unexpected EOF while parsing\n"
     ]
    }
   ],
   "source": [
    "a=eval(input(\"输入一个数\"))\n",
    "while number<a:\n",
    "    "
   ]
  },
  {
   "cell_type": "markdown",
   "metadata": {},
   "source": [
    "## if语句\n",
    "- 如果条件正确就执行一个单向if语句，亦即当条件为真的时候才执行if内部的语句\n",
    "- Python有很多选择语句:\n",
    "> - 单向if \n",
    "  - 双向if-else\n",
    "  - 嵌套if\n",
    "  - 多向if-elif-else\n",
    "  \n",
    "- 注意：当语句含有子语句的时候，那么一定至少要有一个缩进，也就是说如果有儿子存在，那么一定要缩进\n",
    "- 切记不可tab键和space混用，单用tab 或者 space\n",
    "- 当你输出的结果是无论if是否为真时都需要显示时，语句应该与if对齐"
   ]
  },
  {
   "cell_type": "markdown",
   "metadata": {},
   "source": [
    "## EP：\n",
    "- 用户输入一个数字，判断其实奇数还是偶数\n",
    "- 进阶：可以查看下4.5实例研究猜生日"
   ]
  },
  {
   "cell_type": "markdown",
   "metadata": {},
   "source": [
    "## 双向if-else 语句\n",
    "- 如果条件为真，那么走if内部语句，否则走else内部语句"
   ]
  },
  {
   "cell_type": "code",
   "execution_count": 23,
   "metadata": {},
   "outputs": [
    {
     "name": "stdout",
     "output_type": "stream",
     "text": [
      "数字5\n",
      "大于二的奇数\n"
     ]
    }
   ],
   "source": [
    "a=eval(input(\"数字\"))\n",
    "if a>2:\n",
    "    if a%2==0:\n",
    "        print(\"大于二的偶数\")\n",
    "    else:\n",
    "        print(\"大于二的奇数\")\n",
    "else:\n",
    "    print(\"不大于二\")"
   ]
  },
  {
   "cell_type": "code",
   "execution_count": 27,
   "metadata": {},
   "outputs": [
    {
     "name": "stdout",
     "output_type": "stream",
     "text": [
      "有钱吗？有钱\n",
      "帅不帅帅\n",
      "有没有老婆\n",
      "有\n",
      "滚\n"
     ]
    }
   ],
   "source": [
    "a=input(\"有钱吗？\")\n",
    "a1=\"有钱\"\n",
    "b1=\"帅\"\n",
    "c1=\"没有\"\n",
    "if a==a1:  #字符串可以直接比较，不需要定义变量 \n",
    "    b=input(\"帅不帅\")\n",
    "    if b==b1:\n",
    "        print(\"有没有老婆\")\n",
    "        c=input(\"\")\n",
    "        if c==c1:\n",
    "            print(\"见一面\")\n",
    "        else:\n",
    "            print(\"滚\")     \n",
    "    else:\n",
    "        print(\"回家等着吧\")\n",
    "else:\n",
    "    print(\"不大于二\")"
   ]
  },
  {
   "cell_type": "markdown",
   "metadata": {},
   "source": [
    "## EP：\n",
    "- 产生两个随机整数number1和number2，然后显示给用户，使用户输入数字，并判定其是否正确,如果正确打印“you‘re correct”，否则打印正确错误"
   ]
  },
  {
   "cell_type": "markdown",
   "metadata": {},
   "source": [
    "## 嵌套if 和多向if-elif-else\n",
    "![](../Photo/35.png)"
   ]
  },
  {
   "cell_type": "code",
   "execution_count": null,
   "metadata": {},
   "outputs": [],
   "source": [
    "#出现一次elif，就要出现一次if\n",
    "#有点相似于else不能单独出现"
   ]
  },
  {
   "cell_type": "code",
   "execution_count": 58,
   "metadata": {},
   "outputs": [
    {
     "name": "stdout",
     "output_type": "stream",
     "text": [
      "有钱吗？有\n",
      "帅不帅 不帅\n"
     ]
    }
   ],
   "source": [
    "a=input(\"有钱吗？\")\n",
    "if a==\"有\":\n",
    "    b=input(\"帅不帅 \")\n",
    "elif b==\"不帅\":\n",
    "    c=input(\"有老婆吗 \")\n",
    "elif c==\"没有\":\n",
    "    print(\"结婚\")\n",
    "else:\n",
    "    print(\"滚\")"
   ]
  },
  {
   "cell_type": "markdown",
   "metadata": {},
   "source": [
    "## EP：\n",
    "- 提示用户输入一个年份，然后显示表示这一年的动物\n",
    "![](../Photo/36.png)\n",
    "- 计算身体质量指数的程序\n",
    "- BMI = 以千克为单位的体重除以以米为单位的身高的平方\n",
    "![](../Photo/37.png)"
   ]
  },
  {
   "cell_type": "code",
   "execution_count": null,
   "metadata": {},
   "outputs": [],
   "source": [
    "#多行同时输入 按住ALT 等鼠标变加号，下拉被选中的行，同时编写"
   ]
  },
  {
   "cell_type": "code",
   "execution_count": 55,
   "metadata": {},
   "outputs": [
    {
     "name": "stdout",
     "output_type": "stream",
     "text": [
      "请输入年份1999\n",
      "兔\n"
     ]
    }
   ],
   "source": [
    "year=eval(input(\"请输入年份\"))\n",
    "if year%12==0:\n",
    "    print(\"猴\") \n",
    "elif year%12==1:\n",
    "    print(\"鸡\")\n",
    "elif year%12==2:\n",
    "    print(\"狗\")\n",
    "elif year%12==3:\n",
    "    print(\"猪\")\n",
    "elif year%12==4:\n",
    "    print(\"鼠\")\n",
    "elif year%12==5:\n",
    "    print(\"牛\")\n",
    "elif year%12==6:\n",
    "    print(\"虎\")\n",
    "elif year%12==7:\n",
    "    print(\"兔\")\n",
    "elif year%12==8:\n",
    "    print(\"龙\")\n",
    "elif year%12==9:\n",
    "    print(\"蛇\")\n",
    "elif year%12==10:\n",
    "    print(\"马\")\n",
    "elif year%12==11:\n",
    "    print(\"羊\")\n"
   ]
  },
  {
   "cell_type": "code",
   "execution_count": 57,
   "metadata": {},
   "outputs": [
    {
     "name": "stdout",
     "output_type": "stream",
     "text": [
      "请输入身高1.69\n",
      "请输入体重47\n",
      "超轻\n"
     ]
    }
   ],
   "source": [
    "h=eval(input(\"请输入身高\"))\n",
    "w=eval(input(\"请输入体重\"))\n",
    "BMI=w/h/h\n",
    "if BMI<18.5:\n",
    "    print(\"超轻\")\n",
    "elif 18.5<=BMI<25:\n",
    "    print(\"标准\")\n",
    "elif 25<=BMI<30:\n",
    "    print(\"超重\")\n",
    "elif 30<=30:\n",
    "    print(\"痴肥\")"
   ]
  },
  {
   "cell_type": "markdown",
   "metadata": {},
   "source": [
    "## 逻辑运算符\n",
    "![](../Photo/38.png)"
   ]
  },
  {
   "cell_type": "markdown",
   "metadata": {},
   "source": [
    "![](../Photo/39.png)\n",
    "![](../Photo/40.png)"
   ]
  },
  {
   "cell_type": "markdown",
   "metadata": {},
   "source": [
    "## EP：\n",
    "- 判定闰年：一个年份如果能被4整除但不能被100整除，或者能被400整除，那么这个年份就是闰年\n",
    "- 提示用户输入一个年份，并返回是否是闰年\n",
    "- 提示用户输入一个数字，判断其是否为水仙花数"
   ]
  },
  {
   "cell_type": "code",
   "execution_count": 67,
   "metadata": {},
   "outputs": [
    {
     "name": "stdout",
     "output_type": "stream",
     "text": [
      "请输入年份2000\n",
      "是闰年\n"
     ]
    }
   ],
   "source": [
    "year=eval(input(\"请输入年份\"))\n",
    "if (year%100!=0) and (year%4==0):\n",
    "    print(\"是闰年\")\n",
    "if year%400==0:\n",
    "        print(\"是闰年\")\n",
    "else:\n",
    "    print(\"是平年\")"
   ]
  },
  {
   "cell_type": "code",
   "execution_count": 4,
   "metadata": {},
   "outputs": [
    {
     "name": "stdout",
     "output_type": "stream",
     "text": [
      "请输入一个数371\n",
      "是水仙花数\n"
     ]
    }
   ],
   "source": [
    "shu=eval(input(\"请输入一个数\"))\n",
    "bai=shu//100\n",
    "shi=shu//10\n",
    "shi1=shi%10\n",
    "ge=shu%10\n",
    "a=bai/bai\n",
    "b=shi1/shi1\n",
    "#已经知道是三位数了，不需要判断\n",
    "#c=ge/ge\n",
    "#d=a+b+c\n",
    "#e=bai**d+shi1**d+ge**d\n",
    "e=bai**3+shi1**3+ge**3\n",
    "if e==shu:\n",
    "    print(\"是水仙花数\")\n",
    "else:\n",
    "    print(\"不是\")"
   ]
  },
  {
   "cell_type": "code",
   "execution_count": 17,
   "metadata": {},
   "outputs": [
    {
     "name": "stdout",
     "output_type": "stream",
     "text": [
      "请输入一个数370\n",
      "3 7 0\n",
      "370\n"
     ]
    }
   ],
   "source": [
    "shu=eval(input(\"请输入一个数\"))\n",
    "bai=shu//100\n",
    "shi=shu//10%10\n",
    "ge=shu%10\n",
    "print(bai,shi,ge)\n",
    "if bai**3+shi**3+ge**3==shu:\n",
    "    print(shu)\n",
    "else:\n",
    "    print(\"不是\")"
   ]
  },
  {
   "cell_type": "code",
   "execution_count": 11,
   "metadata": {},
   "outputs": [
    {
     "name": "stdout",
     "output_type": "stream",
     "text": [
      "153\n",
      "370\n",
      "371\n",
      "407\n"
     ]
    }
   ],
   "source": [
    "for i in range(100,999):\n",
    "    bai=i//100\n",
    "    shi=i//10\n",
    "    shi1=shi%10\n",
    "    ge=i%10\n",
    "    e=bai**3+shi1**3+ge**3\n",
    "    if e==i:\n",
    "        print(i)"
   ]
  },
  {
   "cell_type": "markdown",
   "metadata": {},
   "source": [
    "## 实例研究：彩票\n",
    "![](../Photo/41.png)"
   ]
  },
  {
   "cell_type": "markdown",
   "metadata": {},
   "source": [
    "# Homework\n",
    "- 1\n",
    "![](../Photo/42.png)"
   ]
  },
  {
   "cell_type": "code",
   "execution_count": 6,
   "metadata": {},
   "outputs": [
    {
     "name": "stdout",
     "output_type": "stream",
     "text": [
      "a1\n",
      "b2\n",
      "c3\n",
      "没有根\n"
     ]
    }
   ],
   "source": [
    "import math\n",
    "a=eval(input(\"a\"))\n",
    "b=eval(input(\"b\"))\n",
    "c=eval(input(\"c\"))\n",
    "pan=b**2-4*a*c\n",
    "if pan>0:\n",
    "    print(\"两个根\")\n",
    "elif pan<0:\n",
    "    print(\"没有根\")\n",
    "else:\n",
    "    print(\"有一个根\")"
   ]
  },
  {
   "cell_type": "markdown",
   "metadata": {},
   "source": [
    "- 2\n",
    "![](../Photo/43.png)"
   ]
  },
  {
   "cell_type": "code",
   "execution_count": null,
   "metadata": {},
   "outputs": [],
   "source": [
    "import random\n",
    "a=random.randint(1,100)\n",
    "b=random.randint(1,100)\n",
    "c=a+b\n",
    "d=eval(input(\"和为？\"))\n",
    "if c==d:\n",
    "    print(\"真\")\n",
    "else:\n",
    "    print(\"假\")"
   ]
  },
  {
   "cell_type": "markdown",
   "metadata": {},
   "source": [
    "- 3\n",
    "![](../Photo/44.png)"
   ]
  },
  {
   "cell_type": "code",
   "execution_count": 2,
   "metadata": {},
   "outputs": [
    {
     "name": "stdout",
     "output_type": "stream",
     "text": [
      "今天是星期几？5\n",
      "你想算几天以后7\n",
      "今天是星期 5\n"
     ]
    }
   ],
   "source": [
    "x=eval(input(\"今天是星期几？\"))\n",
    "jth=eval(input(\"你想算几天以后\"))\n",
    "c=(x+jth)%7\n",
    "if c==0:\n",
    "    print(\"今天是星期日\")\n",
    "else:\n",
    "    print(\"今天是星期\",c)"
   ]
  },
  {
   "cell_type": "markdown",
   "metadata": {},
   "source": [
    "- 4\n",
    "![](../Photo/45.png)"
   ]
  },
  {
   "cell_type": "code",
   "execution_count": 28,
   "metadata": {},
   "outputs": [
    {
     "name": "stdout",
     "output_type": "stream",
     "text": [
      "请输入一个整数5\n",
      "请输入一个整数1\n",
      "请输入一个整数9\n",
      "[1, 5, 9]\n"
     ]
    }
   ],
   "source": [
    "i=eval(input(\"请输入一个整数\"))\n",
    "c=eval(input(\"请输入一个整数\"))\n",
    "k=eval(input(\"请输入一个整数\"))\n",
    "list1=[i,c,k]\n",
    "list1.sort()\n",
    "print(list1)"
   ]
  },
  {
   "cell_type": "markdown",
   "metadata": {},
   "source": [
    "- 5\n",
    "![](../Photo/46.png)"
   ]
  },
  {
   "cell_type": "code",
   "execution_count": 29,
   "metadata": {},
   "outputs": [
    {
     "name": "stdout",
     "output_type": "stream",
     "text": [
      "请输入包装50\n",
      "请输入重量24.59\n",
      "请输入包装25\n",
      "请输入重量11.99\n",
      "b2更合适\n"
     ]
    }
   ],
   "source": [
    "w1=eval(input(\"请输入包装\"))\n",
    "m1=eval(input(\"请输入重量\"))\n",
    "w2=eval(input(\"请输入包装\"))\n",
    "m2=eval(input(\"请输入重量\"))\n",
    "b1=w1*m1\n",
    "b2=w2*m2\n",
    "if b1>b2:\n",
    "    print(\"b2更合适\")\n",
    "else :\n",
    "    print(\"b1更合适\")"
   ]
  },
  {
   "cell_type": "markdown",
   "metadata": {},
   "source": [
    "- 6\n",
    "![](../Photo/47.png)"
   ]
  },
  {
   "cell_type": "code",
   "execution_count": 7,
   "metadata": {},
   "outputs": [
    {
     "name": "stdout",
     "output_type": "stream",
     "text": [
      "请输入月2\n",
      "请输入年2001\n",
      "2001 年 2 月份 有28天\n"
     ]
    }
   ],
   "source": [
    "mo1=eval(input(\"请输入月\"))\n",
    "year1=eval(input(\"请输入年\"))\n",
    "if (year1%100!=0) and (year1%4==0) and year1%400==0:\n",
    "    if mo1==2:\n",
    "        print(year1,\"年\",mo1,\"月份\",\"有29天\") \n",
    "else:\n",
    "    if mo1==1:\n",
    "        print(year1,\"年\",mo1,\"月份\",\"有31天\") \n",
    "    elif mo1==2:\n",
    "        print(year1,\"年\",mo1,\"月份\",\"有28天\") \n",
    "    elif mo1==3:\n",
    "        print(year1,\"年\",mo1,\"月份\",\"有31天\") \n",
    "    elif mo1==4:\n",
    "        print(year1,\"年\",mo1,\"月份\",\"有30天\") \n",
    "    elif mo1==5:\n",
    "        print(year1,\"年\",mo1,\"月份\",\"有31天\") \n",
    "    elif mo1==6:\n",
    "        print(year1,\"年\",mo1,\"月份\",\"有30天\") \n",
    "    elif mo1==7:\n",
    "        print(year1,\"年\",mo1,\"月份\",\"有31天\") \n",
    "    elif mo1==8:\n",
    "        print(year1,\"年\",mo1,\"月份\",\"有31天\") \n",
    "    elif mo1==9:\n",
    "        print(year1,\"年\",mo1,\"月份\",\"有30天\") \n",
    "    elif mo1==10:\n",
    "        print(year1,\"年\",mo1,\"月份\",\"有31天\") \n",
    "    elif mo1==11:\n",
    "        print(year1,\"年\",mo1,\"月份\",\"有30天\") \n",
    "    elif mo1==12:\n",
    "        print(year1,\"年\",mo1,\"月份\",\"有31天\") \n"
   ]
  },
  {
   "cell_type": "markdown",
   "metadata": {},
   "source": [
    "- 7\n",
    "![](../Photo/48.png)"
   ]
  },
  {
   "cell_type": "code",
   "execution_count": 35,
   "metadata": {},
   "outputs": [
    {
     "name": "stdout",
     "output_type": "stream",
     "text": [
      "你猜猜2\n",
      "错误\n"
     ]
    }
   ],
   "source": [
    "import random\n",
    "yingbi=random.randint(1,2)\n",
    "cai=eval(input(\"你猜猜\"))\n",
    "if yingbi==cai:\n",
    "    print(\"正确\")\n",
    "else:\n",
    "    print(\"错误\")"
   ]
  },
  {
   "cell_type": "markdown",
   "metadata": {},
   "source": [
    "- 8\n",
    "![](../Photo/49.png)"
   ]
  },
  {
   "cell_type": "code",
   "execution_count": 55,
   "metadata": {},
   "outputs": [
    {
     "name": "stdout",
     "output_type": "stream",
     "text": [
      "你要出什么？石头=0 剪刀=2 布=1  0\n",
      "1\n",
      "输了\n"
     ]
    }
   ],
   "source": [
    "import random\n",
    "dian_nao=random.randint(0,2)\n",
    "ren=eval(input(\"你要出什么？\"+\"石头=0 剪刀=2 布=1  \"))\n",
    "print(dian_nao)\n",
    "if ren==dian_nao:\n",
    "    print(\"平局\")\n",
    "else:\n",
    "    if ren==0 and dian_nao==2:\n",
    "        print(\"赢了\")\n",
    "    elif ren==2 and dian_nao==0:\n",
    "        print(\"输了\")\n",
    "    elif ren>dian_nao:\n",
    "        print(\"赢了\")\n",
    "    else:\n",
    "        print(\"输了\")"
   ]
  },
  {
   "cell_type": "markdown",
   "metadata": {},
   "source": [
    "- 9\n",
    "![](../Photo/50.png)"
   ]
  },
  {
   "cell_type": "code",
   "execution_count": 6,
   "metadata": {},
   "outputs": [
    {
     "name": "stdout",
     "output_type": "stream",
     "text": [
      "请输入年2001\n",
      "请输入月2\n",
      "请输入日25\n",
      "今天是星期日\n"
     ]
    }
   ],
   "source": [
    "import math\n",
    "year=eval(input(\"请输入年\"))\n",
    "m=eval(input(\"请输入月\"))\n",
    "q=eval(input(\"请输入日\"))\n",
    "if m==1:\n",
    "    m=13\n",
    "    year=year-1\n",
    "if m==2:\n",
    "    m=14\n",
    "    year=year-1\n",
    "h=(q+int(26*(m+1)/10)+int(year%100)+int(year%100/4)+int(year/100/4)+int(5*year/100))%7\n",
    "if h==0:\n",
    "    print(\"今天是星期六\")\n",
    "if h==1:\n",
    "    print(\"今天是星期日\")\n",
    "if h==2:\n",
    "    print(\"今天是星期一\")\n",
    "if h==3:\n",
    "    print(\"今天是星期二\")\n",
    "if h==4:\n",
    "    print(\"今天是星期三\")\n",
    "if h==5:\n",
    "    print(\"今天是星期四\")\n",
    "if h==6:\n",
    "    print(\"今天是星期五\")"
   ]
  },
  {
   "cell_type": "code",
   "execution_count": 102,
   "metadata": {},
   "outputs": [
    {
     "name": "stdout",
     "output_type": "stream",
     "text": [
      "3\n"
     ]
    }
   ],
   "source": [
    "a=3.7\n",
    "print(int(a))\n",
    "h=(q+int(26*(m+1)/10)+int(year%100)+int(year%100/4)+int(year/100/4)+int(5*year/100)%7"
   ]
  },
  {
   "cell_type": "markdown",
   "metadata": {},
   "source": [
    "- 10\n",
    "![](../Photo/51.png)"
   ]
  },
  {
   "cell_type": "code",
   "execution_count": 78,
   "metadata": {},
   "outputs": [
    {
     "name": "stdout",
     "output_type": "stream",
     "text": [
      "这张牌是  方块 King\n"
     ]
    }
   ],
   "source": [
    "import random\n",
    "hua=random.randint(1,4)\n",
    "daxiao=random.randint(1,13)\n",
    "if hua==1:\n",
    "    hua=\"红桃\"\n",
    "elif hua==2:\n",
    "    hua=\"梅花\"\n",
    "elif hua==3:\n",
    "    hua=\"方块\"\n",
    "elif hua==4:\n",
    "    hua=\"黑桃\"\n",
    "if daxiao==1:\n",
    "    daxiao=\"Ace\"\n",
    "elif daxiao==11:\n",
    "    daxiao=\"Jack\"\n",
    "elif daxiao==12:\n",
    "    daxiao=\"Queen\"\n",
    "elif daxiao==13:\n",
    "    daxiao=\"King\"\n",
    "print(\"这张牌是 \",hua,daxiao)\n",
    "\n",
    "    \n",
    "       \n",
    "       "
   ]
  },
  {
   "cell_type": "markdown",
   "metadata": {},
   "source": [
    "- 11\n",
    "![](../Photo/52.png)"
   ]
  },
  {
   "cell_type": "code",
   "execution_count": 82,
   "metadata": {},
   "outputs": [
    {
     "name": "stdout",
     "output_type": "stream",
     "text": [
      "请输入一个数123\n",
      "不是回文数\n"
     ]
    }
   ],
   "source": [
    "shu11=eval(input(\"请输入一个数\"))\n",
    "bai=shu11//100\n",
    "shi=shu11//10%10\n",
    "ge=shu11%10\n",
    "if bai==ge:\n",
    "    print(shu11,\"是回文数\")\n",
    "else:\n",
    "    print(\"不是回文数\")"
   ]
  },
  {
   "cell_type": "markdown",
   "metadata": {},
   "source": [
    "- 12\n",
    "![](../Photo/53.png)"
   ]
  },
  {
   "cell_type": "code",
   "execution_count": 10,
   "metadata": {},
   "outputs": [
    {
     "name": "stdout",
     "output_type": "stream",
     "text": [
      "请输入第一条边的边长1\n",
      "请输入第二条边的边长9\n",
      "请输入第三条边的边长1\n",
      "不合理\n"
     ]
    }
   ],
   "source": [
    "bian1=eval(input(\"请输入第一条边的边长\"))\n",
    "bian2=eval(input(\"请输入第二条边的边长\"))\n",
    "bian3=eval(input(\"请输入第三条边的边长\"))\n",
    "if bian1+bian2>bian3 and abs(bian1-bian2)<bian3:\n",
    "    print(\"合理\")\n",
    "else:\n",
    "    print(\"不合理\")"
   ]
  },
  {
   "cell_type": "code",
   "execution_count": 1,
   "metadata": {},
   "outputs": [
    {
     "name": "stdout",
     "output_type": "stream",
     "text": [
      "请输入第一条边的边长1\n",
      "请输入第二条边的边长1\n",
      "请输入第三条边的边长9\n",
      "不合理\n"
     ]
    }
   ],
   "source": [
    "bian1=eval(input(\"请输入第一条边的边长\"))\n",
    "bian2=eval(input(\"请输入第二条边的边长\"))\n",
    "bian3=eval(input(\"请输入第三条边的边长\"))\n",
    "qing3=bian1+bian2\n",
    "qing2=bian1+bian3\n",
    "qing1=bian3+bian2\n",
    "q3=bian1-bian2\n",
    "q2=bian1-bian3\n",
    "q1=bian3-bian2\n",
    "if qing1>bian1 and qing2>bian2 and qing3>bian3 :\n",
    "    print(\"合理\")\n",
    "else:\n",
    "    print(\"不合理\")"
   ]
  },
  {
   "cell_type": "code",
   "execution_count": null,
   "metadata": {},
   "outputs": [],
   "source": []
  }
 ],
 "metadata": {
  "kernelspec": {
   "display_name": "Python 3",
   "language": "python",
   "name": "python3"
  },
  "language_info": {
   "codemirror_mode": {
    "name": "ipython",
    "version": 3
   },
   "file_extension": ".py",
   "mimetype": "text/x-python",
   "name": "python",
   "nbconvert_exporter": "python",
   "pygments_lexer": "ipython3",
   "version": "3.7.3"
  }
 },
 "nbformat": 4,
 "nbformat_minor": 2
}
